{
 "cells": [
  {
   "cell_type": "markdown",
   "metadata": {},
   "source": [
    "# Ejemplo de conversión de GAMS\n",
    "\n",
    "Vamos a mostrar un ejemplo de cómo escribir uno de los modelos de GAMS en JuMP.\n",
    "\n",
    "Para poder aprovechar la explicación en otro punto del curso utilizaremos el ejemplo 207 (mrp2.gms) que se trata de un modelo de planificación.\n",
    "\n",
    "El original puede consultarse en: https://www.gams.com/latest/gamslib_ml/libhtml/gamslib_mrp2.html"
   ]
  },
  {
   "cell_type": "markdown",
   "metadata": {},
   "source": [
    "Un modelo de GAMS estructura datos, variables y ecuaciones. Empezaremos por los datos que se utilizan:\n",
    "\n",
    "```\n",
    "Set\n",
    "   PP 'SKU numbers'  / AJ8172, LQ8811, RN0098, NN1100, WN7342 /\n",
    "   TT 'time buckets' / 1jan01*8jan01  /\n",
    "   KK 'resources'    / HR-101, MT-402 /;\n",
    "```\n",
    "\n",
    "Alias (TT,TTp), (PP,PPp);\n",
    "\n",
    "* Esto son los conjuntos de datos que a su vez sirven de subíndices en el modelo. En JuMP generalmente se trabaja con números y no con nombres, por lo que crearemos diccionarios que nos permitan leer los nombres una vez tengamos el resultado con números.\n",
    "* Por otra parte, los subíndices de un conjunto tienen el mismo nombre que el conjunto. Si uno necesita recorrer un mismo conjunto en dos bucles tiene que crear un \"alias\". Esto en JuMP no es así ya que los subíndices están separados de los conjuntos. En pocas palabras los alias no se usaran, es una característica que en Julia no se necesita.\n"
   ]
  },
  {
   "cell_type": "code",
   "execution_count": null,
   "metadata": {},
   "outputs": [],
   "source": [
    "PP = Dict(1 => \"AJ8172\", 2 => \"LQ8811\", 3 => \"RN0098\", 4 => \"NN1100\", 5 => \"WN7342\")\n",
    "TT = Dict(1 => \"1Jan01\", 2 => \"2Jan01\", 3 => \"3Jan01\", 4 => \"4Jan01\", 5 => \"5Jan01\", 6 => \"6Jan01\", 7 => \"7Jan01\", 8 => \"8Jan01\")\n",
    "KK = Dict(1 => \"HR-101\", 2 => \"MT-402\")"
   ]
  },
  {
   "cell_type": "markdown",
   "metadata": {},
   "source": [
    "A continuación se introducen un par de tablas con datos:\n",
    "\n",
    "<b>tabla de requerimientos</b>\n",
    "\n",
    "```\n",
    "Table R(PP,PP) 'number of i to make one j'\n",
    "            AJ8172  LQ8811  RN0098  NN1100  WN7342\n",
    "   AJ8172\n",
    "   LQ8811        2\n",
    "   RN0098        1\n",
    "   NN1100                1\n",
    "   WN7342                1                        ;\n",
    "```\n",
    "\n",
    "<b>tabla de demanda</b>\n",
    "\n",
    "```\n",
    "Table demand(PP,TT) 'external demand for an item in a period'\n",
    "            1jan01  2jan01  3jan01  4jan01  5jan01  6jan01  7jan01  8jan01\n",
    "   AJ8172       20      30      10      20      30      20      30      40\n",
    "   LQ8811\n",
    "   RN0098\n",
    "   NN1100\n",
    "   WN7342                                                                 ;\n",
    "```\n"
   ]
  },
  {
   "cell_type": "code",
   "execution_count": null,
   "metadata": {},
   "outputs": [],
   "source": [
    "R=[[0 0 0 0 0]\n",
    "    [2 0 0 0 0]\n",
    "    [1 0 0 0 0]\n",
    "    [0 1 0 0 0]\n",
    "    [0 1 0 0 0]]\n",
    "\n",
    "demand=[[20 30 10 20 30 20 30 40]\n",
    "        [0 0 0 0 0 0 0 0]\n",
    "        [0 0 0 0 0 0 0 0]\n",
    "        [0 0 0 0 0 0 0 0]\n",
    "        [0 0 0 0 0 0 0 0]]"
   ]
  },
  {
   "cell_type": "markdown",
   "metadata": {},
   "source": [
    "<b>Parámetros de demanda total y nivel de producción</b>\n",
    "\n",
    "A continuación tenemos dos parámetros que se calculan a partir de los datos. \n",
    "\n",
    "```\n",
    "Parameter\n",
    "   lev(PP) 'level in the production tree'\n",
    "   TD(PP)  'total demand extern plus implicit';\n",
    "```\n",
    "\n",
    "A continuación el modelo determina el nivel y la demanda total externa más la implícita. Este cálculo debe hacerse utilizando un for de Julia y requiere entender cómo funciona el loop en GAMS (es un tanto lioso, por lo que sería completamente aceptable introducir los valores de forma manual, pero por si alguien quiere hacerlo, hago la traducción aquí.\n",
    "\n",
    "```\n",
    "Scalar runlev 'level iteration' / 0 /;\n",
    "\n",
    "* Root node get level 0, all other get -1\n",
    "lev(PP)$(sum(PPp,R(PP,PPp))) = -1;\n",
    "TD(PP)$(lev(PP)  = 0) = sum(TT,demand(PP,TT));\n",
    "```\n",
    "\n",
    "Explicaremos con detalle la ecuación \n",
    "\n",
    "```\n",
    "lev(PP)$(sum(PPp,R(PP,PPp))) = -1;\n",
    "```\n",
    "\n",
    "El valor de lev(i) tal que (significado del <b>$</b>) la suma para todo i' de R(i,i') no sea nula tiene valor igual a 0 (el contenido de <b>(sum(PPp,R(PP,PPp)))</b> calcula el valor de R).\n",
    "\n",
    "De la misma manera \n",
    "\n",
    "```\n",
    "TD(PP)$(lev(PP)  = 0) = sum(TT,demand(PP,TT));\n",
    "```\n",
    "\n",
    "Indica que TD(i) para aquellos elementos que tengan valor 0 (primer nivel) es igual a un sumatorio de demanda"
   ]
  },
  {
   "cell_type": "code",
   "execution_count": null,
   "metadata": {},
   "outputs": [],
   "source": [
    "lev=zeros(length(PP))\n",
    "TD=zeros(length(PP))\n",
    "\n",
    "for i in 1:length(PP)\n",
    "    suma=0\n",
    "    for j in 1:length(PP) #equivale a PPp\n",
    "        suma += R[i,j]\n",
    "    end\n",
    "    if suma== 0\n",
    "        lev[i]=0\n",
    "    else\n",
    "        lev[i]=(-1)\n",
    "    end\n",
    "end\n",
    "println(lev)        \n",
    "for i in 1:length(PP)\n",
    "    if(lev[i]==0)\n",
    "        TD[i]=0\n",
    "        for j in 1:length(TT)\n",
    "            TD[i] += demand[i,j]\n",
    "        end\n",
    "    end\n",
    "end\n",
    "println(TD)\n",
    "\n",
    "runlev=0\n"
   ]
  },
  {
   "cell_type": "markdown",
   "metadata": {},
   "source": [
    "El siguiente componente del modelo es un conjunto de órdenes programadas que calculan a la vez el nivel de los productos y la demanda acumulada (TD).\n",
    "\n",
    "```\n",
    "loop(PP$(lev(PP) = runlev),\n",
    "   runlev = runlev + 1;\n",
    "   lev(PPp)$R(PPp,PP) = runlev;\n",
    "   TD(PPp)$R(PPp,PP)  = sum(TT,demand(PPp,TT)) + R(PPp,PP)*TD(PP);\n",
    ");\n",
    "```\n",
    "\n",
    "Para entender qué hace esta función podemos consultar: https://www.gams.com/latest/docs/UG_FlowControl.html\n",
    "\n",
    "Según la explicación miraremos variables del conjunto PP (los productos) tales que el runlev sea igual al valor actual y para cada elemento ejecutaremos tres órdenes:\n",
    "\n",
    "* incrementar la variable runlev en uno : ``` runlev = runlev + 1;  ``` \n",
    "* Asignar el valor lev a : ``` lev(PPp)$R(PPp,PP) = runlev; ``` \n",
    "* calcular TD como una suma : ``` TD(PPp)$R(PPp,PP)  = sum(TT,demand(PPp,TT)) + R(PPp,PP)*TD(PP); ``` \n",
    "\n",
    "Nótese que este cálculo sólo se hace para poder evaluar el big-M que se usará después"
   ]
  },
  {
   "cell_type": "code",
   "execution_count": null,
   "metadata": {},
   "outputs": [],
   "source": [
    "runlev=0\n",
    "for i in 1:length(PP)\n",
    "    if lev[i]==runlev\n",
    "        runlev += 1\n",
    "    end\n",
    "    for PPp in 1:length(PP)\n",
    "        if R[PPp,i]>0\n",
    "            lev[PPp]=runlev\n",
    "        end\n",
    "    end\n",
    "    for PPp in 1:length(PP)\n",
    "        if R[PPp,i]>0\n",
    "            TD[PPp] = 0\n",
    "            for j in 1:length(TT)\n",
    "                TD[PPp] = demand[PPp,j]\n",
    "            end\n",
    "            TD[PPp] = TD[PPp] + R[PPp,i]*TD[i]\n",
    "        end\n",
    "    end\n",
    "end\n",
    "println(lev)\n",
    "println(TD)"
   ]
  },
  {
   "cell_type": "markdown",
   "metadata": {},
   "source": [
    "<b>Seguimos con los datos ...</b>\n",
    "\n",
    "Más datos, plazo de entrega, inventario inicial y tamaño de lote.\n",
    "\n",
    "```\n",
    "Parameter\n",
    "   LT(PP) 'lead time'\n",
    "   I(PP)  'beginning inventory'\n",
    "   LS(PP) 'lot size';\n",
    "\n",
    "Table SKUdata(PP,*)\n",
    "            LT    LS    I\n",
    "   AJ8172    2   100   90\n",
    "   LQ8811    3   400  300\n",
    "   RN0098    4   100  100\n",
    "   NN1100    1     1    0\n",
    "   WN7342   12  1000  900;\n",
    "\n",
    "LT(PP) = SKUdata(PP,'LT');\n",
    "LS(PP) = SKUdata(PP,'LS');\n",
    "I(PP)  = SKUdata(PP, 'I');\n",
    "```\n",
    "\n"
   ]
  },
  {
   "cell_type": "code",
   "execution_count": null,
   "metadata": {},
   "outputs": [],
   "source": [
    "LT=[2 3 4 1 2] #cambiado el 12 por un 2, motivo en clase\n",
    "LS=[100 400 100 1 1000]\n",
    "BI=[90 300 100 0 900]"
   ]
  },
  {
   "cell_type": "markdown",
   "metadata": {},
   "source": [
    "<b>Y acabamos con un conjunto de datos que marcan la información de consumo de recursos (de ahí el uso del término MRP-II</b>\n",
    "\n",
    "```\n",
    "Table U(PP,KK) 'fraction of resource k needed by one i'\n",
    "                HR-101       MT-402\n",
    "   AJ8172   0.00208333  0.000104166\n",
    "   LQ8811               0.000333333\n",
    "   RN0098\n",
    "   NN1100               0.000001000;\n",
    "```\n",
    "\n"
   ]
  },
  {
   "cell_type": "code",
   "execution_count": null,
   "metadata": {},
   "outputs": [],
   "source": [
    "U=[[0.00208333 0.000104166]\n",
    "    [0 0.000333333]\n",
    "    [0 0]\n",
    "    [0 0.000001000]\n",
    "    [0 0]]"
   ]
  },
  {
   "cell_type": "markdown",
   "metadata": {},
   "source": [
    "<b> Finalmente calculamos el mejor valor para la big-M partiendo de los datos</b>\n",
    "\n",
    "```\n",
    "Parameter M(PP) 'big M for equation defprod';\n",
    "M(PP) = max(TD(PP),LS(PP));\n",
    "```"
   ]
  },
  {
   "cell_type": "code",
   "execution_count": null,
   "metadata": {},
   "outputs": [],
   "source": [
    "M=zeros(length(PP))\n",
    "for i in 1:length(PP)\n",
    "    M[i]=max(TD[i],LS[i])\n",
    "end\n",
    "println(M)"
   ]
  },
  {
   "cell_type": "markdown",
   "metadata": {},
   "source": [
    "## El modelo\n",
    "\n",
    "Primero hay que cargar la información necesaria para generar y resolver modelos matemáticos en Julia"
   ]
  },
  {
   "cell_type": "code",
   "execution_count": null,
   "metadata": {},
   "outputs": [],
   "source": [
    "using JuMP\n",
    "using GLPKMathProgInterface\n",
    "\n",
    "m = Model(solver = GLPKSolverMIP());"
   ]
  },
  {
   "cell_type": "markdown",
   "metadata": {},
   "source": [
    "En un segundo paso se definen las variables del modelo\n",
    "\n",
    "```\n",
    "Binary   Variable d(PP,TT) 'production indicator';\n",
    "Positive Variable x(PP,TT) 'number of SKUs to produce';\n",
    "```"
   ]
  },
  {
   "cell_type": "code",
   "execution_count": null,
   "metadata": {},
   "outputs": [],
   "source": [
    "@variable(m, d[1:length(PP),1:length(TT)],Bin)\n",
    "@variable(m, x[1:length(PP),1:length(TT)] >= 0); # Models x >=0"
   ]
  },
  {
   "cell_type": "markdown",
   "metadata": {},
   "source": [
    "### Objetivo y restricciones \n",
    "\n",
    "El bloque siguiente incluye tanto el objetivo como las restricciones\n",
    "\n",
    "```\n",
    "Variable obj;\n",
    "\n",
    "Equation\n",
    "   defobj         'objective function'\n",
    "   defreq(PP,TT)  'material requirement'\n",
    "   deflot(PP,TT)  'lot size'\n",
    "   defprod(PP,TT) 'production indicator'\n",
    "   defcap(TT,KK)  'capacity';\n",
    "\n",
    "defobj..         obj =e= sum((PP,TT), (card(TT) - ord(TT) + 1)*x(PP,TT));\n",
    "\n",
    "defreq(PP,TT)..          sum(TTp$(ord(TTp) <= ord(TT) - LT(PP)), x(PP,TTp)) + I(PP)\n",
    "                     =g= sum(TTp$(ord(TTp) <= ord(TT)), demand(PP,TTp)\n",
    "                      +  sum(PPp, R(PP,PPp)*x(PPp,TTp)));\n",
    "\n",
    "deflot(PP,TT)..  x(PP,TT) =g= d(PP,TT)*LS(PP);\n",
    "\n",
    "defprod(PP,TT).. x(PP,TT) =l= d(PP,TT)*M(PP);\n",
    "\n",
    "defcap(TT,KK)..  sum(PP, U(PP,KK)*x(PP,TT)) =l= 1;\n",
    "\n",
    "```"
   ]
  },
  {
   "cell_type": "code",
   "execution_count": null,
   "metadata": {},
   "outputs": [],
   "source": [
    "@objective(m,Min,sum( (length(TT)-tt +1)*x[pp,tt] for pp in 1:length(PP) for tt in 1:length(TT)) );\n",
    "\n",
    "# calcular requerimiento de materiales\n",
    "# para cada producto y periodo de tiempo\n",
    "# lo que he fabricado tiene que ser suficiente para cubrir las necesidades                \n",
    "for pp in 1:length(PP)\n",
    "    for tt in 1:length(TT)\n",
    "        @constraint(m, sum(x[pp,ttp] for ttp in 1:tt-LT[pp]) + BI[pp]  >= \n",
    "            sum(demand[pp,ttp] + sum(R[pp,ppp]*x[ppp,ttp] for ppp in 1:length(PP)) for ttp in 1:tt))\n",
    "    end\n",
    "end\n",
    "# fijar condiciones de lotificación                    \n",
    "# para cada producto y periodo de tiempo, \n",
    "# si se produce (d[pp,tt]) la producción (x[pp,tt]) no puede ser menor que el lote mínimo (LS[pp])\n",
    "for pp in 1:length(PP)\n",
    "    for tt in 1:length(TT)\n",
    "        @constraint(m,x[pp,tt] >= d[pp,tt]*LS[pp])\n",
    "    end\n",
    "end\n",
    "\n",
    "# fijar indicación de producción\n",
    "# para cada producto y periodo de tiempo,\n",
    "# si no se produce (binaria d[pp,tt]) la producción tiene que ser 0,\n",
    "# y si se produce puede ser cualquier número (big M)\n",
    "for pp in 1:length(PP)\n",
    "    for tt in 1:length(TT)\n",
    "        @constraint(m,x[pp,tt] <= d[pp,tt]*M[pp])\n",
    "    end\n",
    "end\n",
    "\n",
    "# fijar límites de capacidad\n",
    "# para cada periodo y recurso\n",
    "# el uso de recurso por todos los productos no puede ser mayor al disponible (1)\n",
    "for tt in 1:length(TT)\n",
    "    for kk in 1:length(KK)\n",
    "        @constraint(m,sum(U[pp,kk]*x[pp,tt] for pp in 1:length(PP)) <= 1)\n",
    "    end\n",
    "end        "
   ]
  },
  {
   "cell_type": "markdown",
   "metadata": {},
   "source": [
    "### Definición de componentes de diversos modelos\n",
    "\n",
    "Podemos resolver distintos modelos usando subconjuntos de restricciones. En JuMP hubiéramos construido diferentes modelos para cada una de las agrupaciones indicadas\n",
    "\n",
    "```\n",
    "Model\n",
    "   mrp   / defobj, defreq, deflot, defprod         /\n",
    "   mrp2  / defobj, defreq,                  defcap /\n",
    "   mrp2l / defobj, defreq, deflot, defprod, defcap /;\n",
    "\n",
    "option optCr = 0.0;\n",
    "\n",
    "solve mrp   minimizing obj using mip;\n",
    "solve mrp2  minimizing obj using lp;\n",
    "solve mrp2l minimizing obj using mip;\n",
    "```"
   ]
  },
  {
   "cell_type": "code",
   "execution_count": null,
   "metadata": {},
   "outputs": [],
   "source": [
    "#escribimos el modelo\n",
    "print(m)\n",
    "\n",
    "#resolvemos\n",
    "status = solve(m)"
   ]
  },
  {
   "cell_type": "code",
   "execution_count": null,
   "metadata": {},
   "outputs": [],
   "source": [
    "println(\"**** Status: \",status,\" Objective value: \", getobjectivevalue(m))\n",
    "println(d)\n",
    "println(getvalue(d))\n",
    "println(x)\n",
    "println(getvalue(x))"
   ]
  },
  {
   "cell_type": "code",
   "execution_count": null,
   "metadata": {},
   "outputs": [],
   "source": [
    "for i in 1:length(PP)\n",
    "    for t in 1:length(TT)\n",
    "        println(\"d[\",i,\",\",t,\"]=\",getValue(d[i,t]))\n",
    "    end\n",
    "end\n",
    "for i in 1:length(PP)\n",
    "    for t in 1:length(TT)\n",
    "        println(\"x[\",i,\",\",t,\"]=\",getValue(x[i,t]))\n",
    "    end\n",
    "end"
   ]
  },
  {
   "cell_type": "code",
   "execution_count": null,
   "metadata": {},
   "outputs": [],
   "source": [
    "for i in 1:length(PP)\n",
    "    for t in 1:length(TT)\n",
    "        if getValue(d[i,t])>0.01\n",
    "            println(\"Se hace un pedido del Producto \",PP[i],\" en el periodo \",TT[t],\" por \",getValue(x[i,t]),\" unidades\")\n",
    "        end\n",
    "    end\n",
    "end"
   ]
  },
  {
   "cell_type": "code",
   "execution_count": null,
   "metadata": {},
   "outputs": [],
   "source": []
  }
 ],
 "metadata": {
  "kernelspec": {
   "display_name": "Julia 0.6.2",
   "language": "julia",
   "name": "julia-0.6"
  },
  "language_info": {
   "file_extension": ".jl",
   "mimetype": "application/julia",
   "name": "julia",
   "version": "0.6.2"
  }
 },
 "nbformat": 4,
 "nbformat_minor": 2
}
