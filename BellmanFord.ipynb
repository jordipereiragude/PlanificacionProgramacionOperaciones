{
 "cells": [
  {
   "cell_type": "markdown",
   "metadata": {},
   "source": [
    "# El algoritmo de Bellman Ford (modificado)\n",
    "\n",
    "La idea de Bellman Ford indicaba que:\n",
    "\n",
    "Para n=1 to n-1\n",
    "\n",
    "Para todo arco (v,w)\n",
    "\n",
    "        Si l(w)>l(v)+c(v,w)\n",
    "        \n",
    "            l(w)=l(v)+c(v,w)\n",
    "            \n",
    "        End\n",
    "        \n",
    "    End\n",
    "\n",
    "End\n",
    "\n",
    "La lista de arcos la vamos a guardar en una estructura de lista del tipo \"arco\" y el resto mediante un vector.\n",
    "\n",
    "Vamos a hacer un cambio para asegurarnos que cada iteración corresponde a caminos de cierta cantidad de arcos."
   ]
  },
  {
   "cell_type": "code",
   "execution_count": null,
   "metadata": {},
   "outputs": [],
   "source": [
    "struct arco #estructura propia para cálculo \n",
    "    origen::Int64\n",
    "    destino::Int64\n",
    "    longitud::Int64\n",
    "end"
   ]
  },
  {
   "cell_type": "markdown",
   "metadata": {},
   "source": [
    "<a title=\"By Jipsy [Public domain], from Wikimedia Commons\" href=\"https://commons.wikimedia.org/wiki/File:Caminosmascortos.jpg\"><img width=\"512\" alt=\"Caminosmascortos\" src=\"https://upload.wikimedia.org/wikipedia/commons/e/ea/Caminosmascortos.jpg\"></a>"
   ]
  },
  {
   "cell_type": "code",
   "execution_count": null,
   "metadata": {
    "scrolled": true
   },
   "outputs": [],
   "source": [
    "d = Dict(\"A\" => 1, \"B\" => 2, \"C\" => 3, \"D\" => 4, \"E\" => 5, \"F\" => 6, \"G\" => 7, \"H\" => 8)\n",
    "dd = Dict(0 => \"0\", 1 => \"A\", 2 => \"B\", 3 => \"C\", 4 => \"D\", 5 => \"E\", 6 => \"F\", 7 => \"G\", 8 => \"H\")\n",
    "\n",
    "nVertices=8 #cargamos datos\n",
    "listaArcos=arco[]\n",
    "push!(listaArcos,arco(d[\"A\"], d[\"B\"], 3))\n",
    "push!(listaArcos,arco(d[\"B\"], d[\"A\"], 3))\n",
    "push!(listaArcos,arco(d[\"A\"], d[\"C\"], 5))\n",
    "push!(listaArcos,arco(d[\"C\"], d[\"A\"], 5))\n",
    "push!(listaArcos,arco(d[\"A\"], d[\"D\"], 2))\n",
    "push!(listaArcos,arco(d[\"D\"], d[\"A\"], 2))\n",
    "push!(listaArcos,arco(d[\"A\"], d[\"H\"], 10))\n",
    "push!(listaArcos,arco(d[\"G\"], d[\"A\"], 10))\n",
    "push!(listaArcos,arco(d[\"B\"], d[\"C\"], 5))\n",
    "push!(listaArcos,arco(d[\"C\"], d[\"B\"], 5))\n",
    "push!(listaArcos,arco(d[\"B\"], d[\"D\"], 8))\n",
    "push!(listaArcos,arco(d[\"D\"], d[\"B\"], 8))\n",
    "push!(listaArcos,arco(d[\"B\"], d[\"E\"], 4))\n",
    "push!(listaArcos,arco(d[\"E\"], d[\"B\"], 4))\n",
    "push!(listaArcos,arco(d[\"B\"], d[\"G\"], 6))\n",
    "push!(listaArcos,arco(d[\"G\"], d[\"B\"], 6))\n",
    "push!(listaArcos,arco(d[\"B\"], d[\"H\"], 6))\n",
    "push!(listaArcos,arco(d[\"H\"], d[\"B\"], 6))\n",
    "push!(listaArcos,arco(d[\"C\"], d[\"E\"], 1))\n",
    "push!(listaArcos,arco(d[\"E\"], d[\"C\"], 1))\n",
    "push!(listaArcos,arco(d[\"C\"], d[\"F\"], 7))\n",
    "push!(listaArcos,arco(d[\"F\"], d[\"C\"], 7))\n",
    "push!(listaArcos,arco(d[\"D\"], d[\"E\"], 12))\n",
    "push!(listaArcos,arco(d[\"E\"], d[\"D\"], 12))\n",
    "push!(listaArcos,arco(d[\"D\"], d[\"H\"], 14))\n",
    "push!(listaArcos,arco(d[\"H\"], d[\"D\"], 14))\n",
    "push!(listaArcos,arco(d[\"E\"], d[\"G\"], 15))\n",
    "push!(listaArcos,arco(d[\"G\"], d[\"E\"], 15))\n",
    "push!(listaArcos,arco(d[\"F\"], d[\"H\"], 9))\n",
    "push!(listaArcos,arco(d[\"H\"], d[\"F\"], 9))\n",
    "push!(listaArcos,arco(d[\"G\"], d[\"H\"], 3))\n",
    "push!(listaArcos,arco(d[\"H\"], d[\"G\"], 3))\n"
   ]
  },
  {
   "cell_type": "code",
   "execution_count": null,
   "metadata": {},
   "outputs": [],
   "source": [
    "origen=1\n",
    "solucion=zeros(Int64,nVertices) # guardamos la solución en un vector\n",
    "solucionp=zeros(Int64,nVertices) # guardamos la solución en un vector\n",
    "tr=zeros(Int64,nVertices)\n",
    "fill!(solucion,100000000) #un valor muy grande que equivale a infinito\n",
    "fill!(solucionp,100000000) #un valor muy grande que equivale a infinito\n",
    "solucion[origen]=0\n",
    "solucionp[origen]=0\n",
    "tr[origen]=origen\n",
    "\n",
    "for nArcos in 1:nVertices-1\n",
    "    println(\"soluciones con \",nArcos,\" arcos máximo\")\n",
    "    solucionp=deepcopy(solucion)\n",
    "    for arco in listaArcos\n",
    "        if solucionp[arco.destino]>solucion[arco.origen]+arco.longitud\n",
    "            solucionp[arco.destino]=solucion[arco.origen]+arco.longitud\n",
    "            tr[arco.destino]=arco.origen\n",
    "        end\n",
    "    end\n",
    "    solucion=deepcopy(solucionp)\n",
    "    println(\"distancias: \",solucion)\n",
    "    print(\"previo:     \")\n",
    "    for i in tr\n",
    "        print(dd[i],\" \")\n",
    "    end\n",
    "    print(\"\\n\")\n",
    "end"
   ]
  },
  {
   "cell_type": "code",
   "execution_count": null,
   "metadata": {},
   "outputs": [],
   "source": []
  }
 ],
 "metadata": {
  "kernelspec": {
   "display_name": "Julia 1.0.0",
   "language": "julia",
   "name": "julia-1.0"
  },
  "language_info": {
   "file_extension": ".jl",
   "mimetype": "application/julia",
   "name": "julia",
   "version": "1.0.0"
  }
 },
 "nbformat": 4,
 "nbformat_minor": 2
}
