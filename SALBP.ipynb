{
 "cells": [
  {
   "cell_type": "markdown",
   "metadata": {},
   "source": [
    "# Heurística simple para el SALBP-1\n",
    "\n",
    "Primero pongamos los datos de clase y transformaremos la lista de precedencias en una matriz"
   ]
  },
  {
   "cell_type": "code",
   "execution_count": null,
   "metadata": {},
   "outputs": [],
   "source": [
    "c=10\n",
    "d=[5 3 4 5 4 5 1 4 6]\n",
    "n=length(d)\n",
    "lp=[[1 2]\n",
    "    [1 3]\n",
    "    [2 4]\n",
    "    [3 4]\n",
    "    [4 5]\n",
    "    [4 6]\n",
    "    [4 7]\n",
    "    [5 8]\n",
    "    [6 9]\n",
    "    [7 9]\n",
    "    [8 9]]\n",
    "precedencias=Array{Bool}(n,n)\n",
    "for i in 1:n\n",
    "    for j in 1:n\n",
    "        precedencias[i,j]=false\n",
    "    end\n",
    "end\n",
    "for i in 1:length(lp[:,1])\n",
    "    precedencias[lp[i,1],lp[i,2]]=true\n",
    "end\n",
    "\n",
    "println(precedencias)\n",
    "println\n",
    "for i in 1:length(lp[:,1])\n",
    "    println(lp[i,1],\"\\t\",lp[i,2])\n",
    "end"
   ]
  },
  {
   "cell_type": "code",
   "execution_count": null,
   "metadata": {},
   "outputs": [],
   "source": [
    "#calculamos prioridad\n",
    "#primero hay que inducir precedencias\n",
    "absolutas=deepcopy(precedencias)\n",
    "cambio=true\n",
    "while cambio==true\n",
    "    cambio=false\n",
    "    for i in 1:n\n",
    "        for j in 1:n\n",
    "            for k in 1:n\n",
    "                if absolutas[i,j]==true && absolutas[j,k]==true && absolutas[i,k]==false\n",
    "                    absolutas[i,k]=true\n",
    "                    cambio=true\n",
    "                end\n",
    "            end\n",
    "        end\n",
    "    end\n",
    "end\n",
    "println(absolutas)\n",
    "println(\"\\n\")\n",
    "#segundo acumulamos la suma de duraciones de la tarea y de sus sucesoras\n",
    "prioridad=zeros(Int64,n)\n",
    "for i in 1:n\n",
    "    prioridad[i]=d[i]\n",
    "    for j in i+1:n\n",
    "        if absolutas[i,j]==true\n",
    "            prioridad[i] += d[j]\n",
    "        end\n",
    "    end\n",
    "end\n",
    "println(prioridad)\n",
    "        "
   ]
  },
  {
   "cell_type": "code",
   "execution_count": null,
   "metadata": {},
   "outputs": [],
   "source": [
    "#cuántas predecesoras le faltan a la tarea?\n",
    "pending=zeros(Int64,n)\n",
    "for i in 1:n\n",
    "    for j in 1:n\n",
    "        if precedencias[i,j]==1\n",
    "            pending[j] += 1\n",
    "        end\n",
    "    end\n",
    "end\n",
    "println(pending)\n",
    "#cuántas tareas faltan en total?\n",
    "missing=n"
   ]
  },
  {
   "cell_type": "code",
   "execution_count": null,
   "metadata": {},
   "outputs": [],
   "source": [
    "currentStation=1\n",
    "currentC=c\n",
    "solucion=zeros(Int64,n)\n",
    "while missing>0\n",
    "    #tengo que escoger alguna tarea o ninguna si no caben\n",
    "    bestCandidata=0\n",
    "    bestValor=0\n",
    "    for i in 1:n\n",
    "        if currentC>=d[i] && bestValor<prioridad[i] && solucion[i]==0 && pending[i]==0\n",
    "            bestCandidata=i\n",
    "            bestValor=prioridad[i]\n",
    "        end\n",
    "    end\n",
    "    if bestCandidata>0 #he asignado algo\n",
    "        solucion[bestCandidata]=currentStation\n",
    "        currentC -= d[bestCandidata]\n",
    "        for j in 1:n\n",
    "            if precedencias[bestCandidata,j]==true\n",
    "                pending[j] -= 1\n",
    "            end\n",
    "        end \n",
    "        println(\"He asignado \",bestCandidata,\" tiempo libre \",currentC,\"\\tquedan: \",pending)\n",
    "        missing -= 1\n",
    "    else\n",
    "        println(\"en esta iteracion no he escogido tarea\")\n",
    "        currentC=c\n",
    "        currentStation += 1\n",
    "    end    \n",
    "end\n",
    "println(\"Solucion final: \",solucion)"
   ]
  },
  {
   "cell_type": "code",
   "execution_count": null,
   "metadata": {},
   "outputs": [],
   "source": []
  }
 ],
 "metadata": {
  "kernelspec": {
   "display_name": "Julia 0.6.2",
   "language": "julia",
   "name": "julia-0.6"
  },
  "language_info": {
   "file_extension": ".jl",
   "mimetype": "application/julia",
   "name": "julia",
   "version": "0.6.2"
  }
 },
 "nbformat": 4,
 "nbformat_minor": 2
}
