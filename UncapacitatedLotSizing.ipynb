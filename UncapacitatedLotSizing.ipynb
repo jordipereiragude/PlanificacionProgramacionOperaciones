{
 "cells": [
  {
   "cell_type": "markdown",
   "metadata": {},
   "source": [
    "# Un modelo matemático (Uncapacitated Lot Sizing)\n",
    "\n",
    "El modelo equivale a la siguiente formulación:\n",
    "\n",
    "\\begin{align}\n",
    "\\text{minimize} \\qquad & \\sum_{t\\in T} c_s s_t+ \\sum_{t\\in T} c_K y_t \\\\\n",
    " \\text{subject to} \\quad \\quad & s_{t-1} + x_t = s_t + d_t \\\\\n",
    " \\qquad \\qquad & x_t \\leq M y_t \\\\\n",
    " \\qquad \\qquad & s_0 = 0 \\\\\n",
    " \\qquad \\qquad & x_t, s_t \\in \\mathbb{R}^+, \\forall t\\in T\\\\\n",
    " \\qquad \\qquad & y_t \\in \\{0,1\\}\n",
    "\\end{align}\n",
    "\n",
    "$c_s$ y $c_K$ son, respectivamente, los costes de inventario (unidad por periodo) y de realizar un pedido en un periodo y $d_t$ la demanda de cada periodo. El conjunto de periodos es $T$. $x_t$ es la cantidad que se recibe en el periodo $t$, mientras que $y_t$ equivale a si se realiza un pedido en el periodo $t$ o no y $s_t$ es el inventario al final del periodo $t$.\n",
    "\n",
    "El objetivo minimiza la suma de costos de inventario y pedido (el costo por unidad no se tiene en cuenta porque la solución óptima siempre compra exactamente la demanda, $\\sum_{t\\in T} d_t$.\n",
    "\n",
    "La primera restricción asegura el cumplimiento de la demanda de cada periodo. La segunda restricción asegura que sólo se compran unidades si se ha realizado un pedido ($M$ es un valor lo suficientemente grande, en este caso basta con $\\sum_{t\\in T} d_t$). La tercera restricción inicializa el inventario y el resto de restricciones definen el problema."
   ]
  },
  {
   "cell_type": "code",
   "execution_count": null,
   "metadata": {},
   "outputs": [],
   "source": [
    "using JuMP\n",
    "using GLPKMathProgInterface"
   ]
  },
  {
   "cell_type": "code",
   "execution_count": null,
   "metadata": {},
   "outputs": [],
   "source": [
    "T=10\n",
    "d=[5; 10; 7; 11; 13; 14; 2; 8; 17; 21]\n",
    "cK=50\n",
    "cs=2\n",
    "M=sum(d)"
   ]
  },
  {
   "cell_type": "code",
   "execution_count": null,
   "metadata": {},
   "outputs": [],
   "source": [
    "modelo=Model(solver = solver = GLPKSolverMIP())\n",
    "@variable(modelo, x[1:T]>= 0)\n",
    "@variable(modelo, y[1:T],Bin)\n",
    "@variable(modelo, s[0:T]>=0)\n",
    "\n",
    "#función objetivo a minimizar\n",
    "@objective(modelo, Min, sum(cs*s[t] for t in 1:T)+sum(cK*y[t] for t in 1:T))\n",
    "\n",
    "for t in 1:T\n",
    "    @constraint(modelo,s[t-1]+x[t]==d[t]+s[t])\n",
    "end\n",
    "for t in 1:T\n",
    "    @constraint(modelo,x[t]<=M*y[t])\n",
    "end\n",
    "@constraint(modelo,s[0]==0)\n",
    "\n",
    "#escribimos el modelo\n",
    "print(modelo)\n",
    "\n",
    "#resolvemos\n",
    "status = solve(modelo)\n",
    "\n",
    "#mostramos resultados\n",
    "println(\"**** Status: \",status,\" Objective value: \", getobjectivevalue(modelo))\n",
    "println(\"**** x = \", getvalue(x))\n",
    "println(\"**** y = \", getvalue(y))\n",
    "println(\"**** s = \", getvalue(s))"
   ]
  },
  {
   "cell_type": "code",
   "execution_count": null,
   "metadata": {},
   "outputs": [],
   "source": []
  }
 ],
 "metadata": {
  "kernelspec": {
   "display_name": "Julia 0.6.2",
   "language": "julia",
   "name": "julia-0.6"
  },
  "language_info": {
   "file_extension": ".jl",
   "mimetype": "application/julia",
   "name": "julia",
   "version": "0.6.2"
  }
 },
 "nbformat": 4,
 "nbformat_minor": 2
}
